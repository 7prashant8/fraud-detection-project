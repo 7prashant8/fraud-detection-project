# fraud_model_training.ipynb

# Install required packages
!pip install imbalanced-learn

# 1. Import Libraries
import pandas as pd
import numpy as np
from sklearn.model_selection import train_test_split
from sklearn.ensemble import RandomForestClassifier
from sklearn.preprocessing import StandardScaler
from sklearn.metrics import classification_report
from imblearn.over_sampling import SMOTE
import joblib

# 2. Load Dataset
df = pd.read_csv('/content/creditcard.csv')  # upload manually

# 3. Prepare Data
X = df.drop('Class', axis=1)
y = df['Class']

scaler = StandardScaler()
X_scaled = scaler.fit_transform(X)

# Balance dataset using SMOTE
smote = SMOTE()
X_resampled, y_resampled = smote.fit_resample(X_scaled, y)

# 4. Split and Train
X_train, X_test, y_train, y_test = train_test_split(X_resampled, y_resampled, test_size=0.2)
model = RandomForestClassifier()
model.fit(X_train, y_train)

# 5. Evaluate
y_pred = model.predict(X_test)
print(classification_report(y_test, y_pred))

# 6. Save Model
joblib.dump(model, 'fraud_model.pkl')
joblib.dump(scaler, 'scaler.pkl')

# 7. Download Models
from google.colab import files
files.download('fraud_model.pkl')
files.download('scaler.pkl')
